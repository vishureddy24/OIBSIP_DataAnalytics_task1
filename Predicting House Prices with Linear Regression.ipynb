{
  "nbformat": 4,
  "nbformat_minor": 0,
  "metadata": {
    "colab": {
      "provenance": []
    },
    "kernelspec": {
      "name": "python3",
      "display_name": "Python 3"
    },
    "language_info": {
      "name": "python"
    }
  },
  "cells": [
    {
      "cell_type": "code",
      "execution_count": 4,
      "metadata": {
        "colab": {
          "base_uri": "https://localhost:8080/",
          "height": 838
        },
        "id": "Fx3O2Dq9Z-TN",
        "outputId": "6e8edfd6-d963-419d-f21f-18c04a980516"
      },
      "outputs": [
        {
          "output_type": "stream",
          "name": "stdout",
          "text": [
            "<class 'pandas.core.frame.DataFrame'>\n",
            "RangeIndex: 545 entries, 0 to 544\n",
            "Data columns (total 13 columns):\n",
            " #   Column            Non-Null Count  Dtype \n",
            "---  ------            --------------  ----- \n",
            " 0   price             545 non-null    int64 \n",
            " 1   area              545 non-null    int64 \n",
            " 2   bedrooms          545 non-null    int64 \n",
            " 3   bathrooms         545 non-null    int64 \n",
            " 4   stories           545 non-null    int64 \n",
            " 5   mainroad          545 non-null    object\n",
            " 6   guestroom         545 non-null    object\n",
            " 7   basement          545 non-null    object\n",
            " 8   hotwaterheating   545 non-null    object\n",
            " 9   airconditioning   545 non-null    object\n",
            " 10  parking           545 non-null    int64 \n",
            " 11  prefarea          545 non-null    object\n",
            " 12  furnishingstatus  545 non-null    object\n",
            "dtypes: int64(6), object(7)\n",
            "memory usage: 55.5+ KB\n"
          ]
        },
        {
          "output_type": "execute_result",
          "data": {
            "text/plain": [
              "price                int64\n",
              "area                 int64\n",
              "bedrooms             int64\n",
              "bathrooms            int64\n",
              "stories              int64\n",
              "mainroad            object\n",
              "guestroom           object\n",
              "basement            object\n",
              "hotwaterheating     object\n",
              "airconditioning     object\n",
              "parking              int64\n",
              "prefarea            object\n",
              "furnishingstatus    object\n",
              "dtype: object"
            ],
            "text/html": [
              "<div>\n",
              "<style scoped>\n",
              "    .dataframe tbody tr th:only-of-type {\n",
              "        vertical-align: middle;\n",
              "    }\n",
              "\n",
              "    .dataframe tbody tr th {\n",
              "        vertical-align: top;\n",
              "    }\n",
              "\n",
              "    .dataframe thead th {\n",
              "        text-align: right;\n",
              "    }\n",
              "</style>\n",
              "<table border=\"1\" class=\"dataframe\">\n",
              "  <thead>\n",
              "    <tr style=\"text-align: right;\">\n",
              "      <th></th>\n",
              "      <th>0</th>\n",
              "    </tr>\n",
              "  </thead>\n",
              "  <tbody>\n",
              "    <tr>\n",
              "      <th>price</th>\n",
              "      <td>int64</td>\n",
              "    </tr>\n",
              "    <tr>\n",
              "      <th>area</th>\n",
              "      <td>int64</td>\n",
              "    </tr>\n",
              "    <tr>\n",
              "      <th>bedrooms</th>\n",
              "      <td>int64</td>\n",
              "    </tr>\n",
              "    <tr>\n",
              "      <th>bathrooms</th>\n",
              "      <td>int64</td>\n",
              "    </tr>\n",
              "    <tr>\n",
              "      <th>stories</th>\n",
              "      <td>int64</td>\n",
              "    </tr>\n",
              "    <tr>\n",
              "      <th>mainroad</th>\n",
              "      <td>object</td>\n",
              "    </tr>\n",
              "    <tr>\n",
              "      <th>guestroom</th>\n",
              "      <td>object</td>\n",
              "    </tr>\n",
              "    <tr>\n",
              "      <th>basement</th>\n",
              "      <td>object</td>\n",
              "    </tr>\n",
              "    <tr>\n",
              "      <th>hotwaterheating</th>\n",
              "      <td>object</td>\n",
              "    </tr>\n",
              "    <tr>\n",
              "      <th>airconditioning</th>\n",
              "      <td>object</td>\n",
              "    </tr>\n",
              "    <tr>\n",
              "      <th>parking</th>\n",
              "      <td>int64</td>\n",
              "    </tr>\n",
              "    <tr>\n",
              "      <th>prefarea</th>\n",
              "      <td>object</td>\n",
              "    </tr>\n",
              "    <tr>\n",
              "      <th>furnishingstatus</th>\n",
              "      <td>object</td>\n",
              "    </tr>\n",
              "  </tbody>\n",
              "</table>\n",
              "</div><br><label><b>dtype:</b> object</label>"
            ]
          },
          "metadata": {},
          "execution_count": 4
        }
      ],
      "source": [
        "import pandas as pd\n",
        "import numpy as np\n",
        "df= pd.read_csv(\"/content/Housing.csv\")\n",
        "df.info()\n",
        "df.shape\n",
        "df.columns\n",
        "df.head()\n",
        "df.dtypes"
      ]
    },
    {
      "cell_type": "code",
      "source": [
        "#task2\n",
        "#missing values\n",
        "print(\"missing values:\")\n",
        "print(df.isnull().sum())\n",
        "# to differentiate between missng and duplicate values\n",
        "print(\"\")\n",
        "# duplicate rows\n",
        "print(\"duplicate rows:\")\n",
        "print(df.duplicated().sum())\n",
        "\n",
        "#one-hot encoding\n",
        "df_cleaned = pd.get_dummies(df,drop_first=True)\n",
        "print(\"data after doing onehot encoding \")\n",
        "print(df_cleaned.head())\n",
        "#checking missing values after doing one-hot encoding\n",
        "df.isnull().sum()"
      ],
      "metadata": {
        "colab": {
          "base_uri": "https://localhost:8080/",
          "height": 1000
        },
        "id": "IAVOhaNWbHwY",
        "outputId": "8fd9ec37-eca4-4c59-de69-a986afb3d3c9"
      },
      "execution_count": 21,
      "outputs": [
        {
          "output_type": "stream",
          "name": "stdout",
          "text": [
            "missing values:\n",
            "price               0\n",
            "area                0\n",
            "bedrooms            0\n",
            "bathrooms           0\n",
            "stories             0\n",
            "mainroad            0\n",
            "guestroom           0\n",
            "basement            0\n",
            "hotwaterheating     0\n",
            "airconditioning     0\n",
            "parking             0\n",
            "prefarea            0\n",
            "furnishingstatus    0\n",
            "dtype: int64\n",
            "\n",
            "duplicate rows:\n",
            "0\n",
            "data after doing onehot encoding \n",
            "      price  area  bedrooms  bathrooms  stories  parking  mainroad_yes  \\\n",
            "0  13300000  7420         4          2        3        2          True   \n",
            "1  12250000  8960         4          4        4        3          True   \n",
            "2  12250000  9960         3          2        2        2          True   \n",
            "3  12215000  7500         4          2        2        3          True   \n",
            "4  11410000  7420         4          1        2        2          True   \n",
            "\n",
            "   guestroom_yes  basement_yes  hotwaterheating_yes  airconditioning_yes  \\\n",
            "0          False         False                False                 True   \n",
            "1          False         False                False                 True   \n",
            "2          False          True                False                False   \n",
            "3          False          True                False                 True   \n",
            "4           True          True                False                 True   \n",
            "\n",
            "   prefarea_yes  furnishingstatus_semi-furnished  furnishingstatus_unfurnished  \n",
            "0          True                            False                         False  \n",
            "1         False                            False                         False  \n",
            "2          True                             True                         False  \n",
            "3          True                            False                         False  \n",
            "4         False                            False                         False  \n"
          ]
        },
        {
          "output_type": "execute_result",
          "data": {
            "text/plain": [
              "price               0\n",
              "area                0\n",
              "bedrooms            0\n",
              "bathrooms           0\n",
              "stories             0\n",
              "mainroad            0\n",
              "guestroom           0\n",
              "basement            0\n",
              "hotwaterheating     0\n",
              "airconditioning     0\n",
              "parking             0\n",
              "prefarea            0\n",
              "furnishingstatus    0\n",
              "dtype: int64"
            ],
            "text/html": [
              "<div>\n",
              "<style scoped>\n",
              "    .dataframe tbody tr th:only-of-type {\n",
              "        vertical-align: middle;\n",
              "    }\n",
              "\n",
              "    .dataframe tbody tr th {\n",
              "        vertical-align: top;\n",
              "    }\n",
              "\n",
              "    .dataframe thead th {\n",
              "        text-align: right;\n",
              "    }\n",
              "</style>\n",
              "<table border=\"1\" class=\"dataframe\">\n",
              "  <thead>\n",
              "    <tr style=\"text-align: right;\">\n",
              "      <th></th>\n",
              "      <th>0</th>\n",
              "    </tr>\n",
              "  </thead>\n",
              "  <tbody>\n",
              "    <tr>\n",
              "      <th>price</th>\n",
              "      <td>0</td>\n",
              "    </tr>\n",
              "    <tr>\n",
              "      <th>area</th>\n",
              "      <td>0</td>\n",
              "    </tr>\n",
              "    <tr>\n",
              "      <th>bedrooms</th>\n",
              "      <td>0</td>\n",
              "    </tr>\n",
              "    <tr>\n",
              "      <th>bathrooms</th>\n",
              "      <td>0</td>\n",
              "    </tr>\n",
              "    <tr>\n",
              "      <th>stories</th>\n",
              "      <td>0</td>\n",
              "    </tr>\n",
              "    <tr>\n",
              "      <th>mainroad</th>\n",
              "      <td>0</td>\n",
              "    </tr>\n",
              "    <tr>\n",
              "      <th>guestroom</th>\n",
              "      <td>0</td>\n",
              "    </tr>\n",
              "    <tr>\n",
              "      <th>basement</th>\n",
              "      <td>0</td>\n",
              "    </tr>\n",
              "    <tr>\n",
              "      <th>hotwaterheating</th>\n",
              "      <td>0</td>\n",
              "    </tr>\n",
              "    <tr>\n",
              "      <th>airconditioning</th>\n",
              "      <td>0</td>\n",
              "    </tr>\n",
              "    <tr>\n",
              "      <th>parking</th>\n",
              "      <td>0</td>\n",
              "    </tr>\n",
              "    <tr>\n",
              "      <th>prefarea</th>\n",
              "      <td>0</td>\n",
              "    </tr>\n",
              "    <tr>\n",
              "      <th>furnishingstatus</th>\n",
              "      <td>0</td>\n",
              "    </tr>\n",
              "  </tbody>\n",
              "</table>\n",
              "</div><br><label><b>dtype:</b> int64</label>"
            ]
          },
          "metadata": {},
          "execution_count": 21
        }
      ]
    },
    {
      "cell_type": "code",
      "source": [
        "#task3\n",
        "import seaborn as sns\n",
        "import matplotlib.pyplot as plt\n",
        "#correlation matrix to indefiy linear relationships\n",
        "correlation = df.corr(numeric_only = True)['price'].sort_values(ascending=False)\n",
        "print(\"correlation of each column with price:\")\n",
        "print(correlation)"
      ],
      "metadata": {
        "colab": {
          "base_uri": "https://localhost:8080/"
        },
        "id": "gcowj-yieJXW",
        "outputId": "d05f78a1-cbd7-40f0-ff91-5115e7b23c37"
      },
      "execution_count": 23,
      "outputs": [
        {
          "output_type": "stream",
          "name": "stdout",
          "text": [
            "correlation of each column with price:\n",
            "price        1.000000\n",
            "area         0.535997\n",
            "bathrooms    0.517545\n",
            "stories      0.420712\n",
            "parking      0.384394\n",
            "bedrooms     0.366494\n",
            "Name: price, dtype: float64\n"
          ]
        }
      ]
    },
    {
      "cell_type": "code",
      "source": [
        "#tasl4\n",
        "#model training\n",
        "from sklearn.model_selection import train_test_split\n",
        "from sklearn.linear_model import LinearRegression\n",
        "\n",
        "x = df_cleaned.drop('price',axis = 1) # input futures\n",
        "y = df_cleaned['price'] #target vairable\n",
        "\n",
        "# train data = 80 percent and test data = 20 percent\n",
        "x_train,x_test,y_train,y_test = train_test_split(x,y,test_size =0.2,random_state =42)\n",
        "\n",
        "#evaluate model\n",
        "model  = LinearRegression()\n",
        "model.fit(x_train,y_train)\n",
        "'''\n",
        "the folling loop moves through the features and\n",
        "regression coefficients to show how much that future influences the target predection\n",
        "'''\n",
        "print(\"model evaluation\")\n",
        "for feature ,coef in zip(x.columns,model.coef_):\n",
        "  print(f\"{feature}: {coef}\")"
      ],
      "metadata": {
        "colab": {
          "base_uri": "https://localhost:8080/"
        },
        "id": "sVcrQZP-gGpi",
        "outputId": "5010d526-74e9-43f4-e921-092d5ac079bb"
      },
      "execution_count": 27,
      "outputs": [
        {
          "output_type": "stream",
          "name": "stdout",
          "text": [
            "model evaluation\n",
            "area: 235.9688045413957\n",
            "bedrooms: 76778.7016343784\n",
            "bathrooms: 1094444.7861005957\n",
            "stories: 407476.59498491115\n",
            "parking: 224841.91327662673\n",
            "mainroad_yes: 367919.9476795722\n",
            "guestroom_yes: 231610.0371756495\n",
            "basement_yes: 390251.17618109327\n",
            "hotwaterheating_yes: 684649.8853387912\n",
            "airconditioning_yes: 791426.7358431868\n",
            "prefarea_yes: 629890.5653133605\n",
            "furnishingstatus_semi-furnished: -126881.81758510851\n",
            "furnishingstatus_unfurnished: -413645.062228222\n"
          ]
        }
      ]
    },
    {
      "cell_type": "code",
      "source": [
        "#task5\n",
        "#model evaluation\n",
        "from sklearn.metrics import mean_squared_error,r2_score\n",
        "y_pred = model.predict(x_test)\n",
        "mse = mean_squared_error(y_test,y_pred)\n",
        "r2 = r2_score(y_test,y_pred)\n",
        "print(f\"mean squared error:  {mse:.2f}\")\n",
        "print(f\"R-squared score: {r2:.4f}\")"
      ],
      "metadata": {
        "colab": {
          "base_uri": "https://localhost:8080/"
        },
        "id": "w96XOpoTj-Ta",
        "outputId": "9bb3948e-c506-47a1-ab31-89550c89b2ce"
      },
      "execution_count": 28,
      "outputs": [
        {
          "output_type": "stream",
          "name": "stdout",
          "text": [
            "mean squared error:  1754318687330.66\n",
            "R-squared score: 0.6529\n"
          ]
        }
      ]
    },
    {
      "cell_type": "code",
      "source": [
        "#task6\n",
        "#visualization\n",
        "import matplotlib.pyplot as plt\n",
        "import seaborn as sns\n",
        "plt.figure(figsize=(10,8))\n",
        "sns.scatterplot(x=y_test,y =y_pred)\n",
        "plt.xlabel(\"actual prices\")\n",
        "plt.ylabel(\"predicted prices\")\n",
        "plt.title(\"actual prices vs predicted prices\")\n",
        "plt.plot([y_test.min(),y_test.max()],[y_test.min(),y_test.max()], '--y')\n",
        "plt.grid(True)\n",
        "plt.show()"
      ],
      "metadata": {
        "colab": {
          "base_uri": "https://localhost:8080/",
          "height": 704
        },
        "id": "eXwwHt8rl_ep",
        "outputId": "00dffd48-5d0f-4e38-d53d-fa34c763215a"
      },
      "execution_count": 30,
      "outputs": [
        {
          "output_type": "display_data",
          "data": {
            "text/plain": [
              "<Figure size 1000x800 with 1 Axes>"
            ],
            "image/png": "[encoded data removed]"
          },
          "metadata": {}
        }
      ]
    }
  ]
}